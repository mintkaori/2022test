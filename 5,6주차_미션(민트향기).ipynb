{
  "nbformat": 4,
  "nbformat_minor": 0,
  "metadata": {
    "colab": {
      "name": "5,6주차 미션(민트향기).ipynb",
      "provenance": [],
      "authorship_tag": "ABX9TyMJAJEDGWnU6WsVyuzmCdSU",
      "include_colab_link": true
    },
    "kernelspec": {
      "name": "python3",
      "display_name": "Python 3"
    },
    "language_info": {
      "name": "python"
    }
  },
  "cells": [
    {
      "cell_type": "markdown",
      "metadata": {
        "id": "view-in-github",
        "colab_type": "text"
      },
      "source": [
        "<a href=\"https://colab.research.google.com/github/mintkaori/2022test/blob/main/5%2C6%EC%A3%BC%EC%B0%A8_%EB%AF%B8%EC%85%98(%EB%AF%BC%ED%8A%B8%ED%96%A5%EA%B8%B0).ipynb\" target=\"_parent\"><img src=\"https://colab.research.google.com/assets/colab-badge.svg\" alt=\"Open In Colab\"/></a>"
      ]
    },
    {
      "cell_type": "markdown",
      "source": [
        "##1) 주제\n",
        "아이들 관심사 조사해서 시각화하기\n",
        "\n",
        "##2) 절차\n",
        "- 데이터를 입력 또는 크롤링하는 파트1과 시각화하는 파트2로 나눌 수 있을 것 같음.\n",
        "- 지난 주에 파트2를 해보았고 이번 주에 아이들에게 데이터 입력하는 부분을 구현함.\n",
        "\n",
        "##4) 6주차 느낀점\n",
        "- 코랩에서 한글표현 아직도 모르겠음.\n",
        "- 5주차 리스트 형태는 RE 정규표현식으로 억지로 추가,수정을 하는 느낌이 들어서 그냥 값 중복되게 하나하나 다 받아서 마지막에 리스트를 Counter로 세는 전략을 써보았음.\n",
        "- 원래는 웹크롤링 구현해보고 싶은 욕심이 생겼으나 뭔가 데이터분석 스터디를 꾸준히 따라가면 자연스레 배울 것 같아서 스터디에 집중하기로 했음.\n",
        "\n",
        "## 5주차 배운점\n",
        "- 뭔가 추출할 때 re 및 정규표현식을 배워두면 좋을 것 같다는 생각을 함.\n",
        "https://blog.naver.com/sophi_happy/222588229860\n",
        "- 리스트에서 날려버릴 때는 pop()을 쓰면 된다.\n",
        "\n",
        "- 4주차 미션 때 빈리스트나 숫자 등으로 선언할 때 a=b=c=0, a=b=c=[] 등으로 한 줄로 표현할 수 있다는 것을 알아서 개선함.\n",
        "- 4주차 미션 때 새미콜론(;)으로 여러 줄을 한줄로 표현할 수 있다는 것을 알아서 과하지 않은 선에서 써봄.\n",
        "\n"
      ],
      "metadata": {
        "id": "8_6V1GPxyDur"
      }
    },
    {
      "cell_type": "code",
      "source": [
        " #시각화 모듈인 pytagcloud 설치\n",
        "!pip install pytagcloud pygame simplejson"
      ],
      "metadata": {
        "colab": {
          "base_uri": "https://localhost:8080/"
        },
        "id": "_ux6PZ7covRy",
        "outputId": "2bb9de1d-2364-424d-d592-bc8fcd0085e2"
      },
      "execution_count": null,
      "outputs": [
        {
          "output_type": "stream",
          "name": "stdout",
          "text": [
            "Looking in indexes: https://pypi.org/simple, https://us-python.pkg.dev/colab-wheels/public/simple/\n",
            "Collecting pytagcloud\n",
            "  Downloading pytagcloud-0.3.5.tar.gz (754 kB)\n",
            "\u001b[K     |████████████████████████████████| 754 kB 5.0 MB/s \n",
            "\u001b[?25hCollecting pygame\n",
            "  Downloading pygame-2.1.2-cp37-cp37m-manylinux_2_17_x86_64.manylinux2014_x86_64.whl (21.8 MB)\n",
            "\u001b[K     |████████████████████████████████| 21.8 MB 68.3 MB/s \n",
            "\u001b[?25hCollecting simplejson\n",
            "  Downloading simplejson-3.17.6-cp37-cp37m-manylinux_2_5_x86_64.manylinux1_x86_64.manylinux_2_12_x86_64.manylinux2010_x86_64.whl (130 kB)\n",
            "\u001b[K     |████████████████████████████████| 130 kB 58.6 MB/s \n",
            "\u001b[?25hBuilding wheels for collected packages: pytagcloud\n",
            "  Building wheel for pytagcloud (setup.py) ... \u001b[?25l\u001b[?25hdone\n",
            "  Created wheel for pytagcloud: filename=pytagcloud-0.3.5-py3-none-any.whl size=759866 sha256=982bf9b7f7c73c5d205375a9dcca29068efbf9cd7ab00711077b5c56202a6eac\n",
            "  Stored in directory: /root/.cache/pip/wheels/fc/fd/aa/86956a295a7c9205bafd518ef4b6d489e51d2d476990c18238\n",
            "Successfully built pytagcloud\n",
            "Installing collected packages: simplejson, pytagcloud, pygame\n",
            "Successfully installed pygame-2.1.2 pytagcloud-0.3.5 simplejson-3.17.6\n"
          ]
        }
      ]
    },
    {
      "cell_type": "code",
      "source": [
        "# 수정한 6주차 코드\n",
        "from collections import Counter\n",
        "import pytagcloud as tagcloud\n",
        "import time\n",
        "\n",
        "#아이들 좋아하는 케릭터 받기\n",
        "data = ['poketmon','poketmon','poketmon', 'tiniping','tiniping','tiniping','tiniping', 'onepiece', 'conan', 'wooyoungwoo','wooyoungwoo','conan', 'zzanggu']\n",
        "count = Counter(data)\n",
        "print('='*120)\n",
        "print('다음은 초등학교 아이들이 좋아하는 케릭터입니다.')\n",
        "print(count)\n",
        "print('='*120)\n",
        "while True : #입력하면 계속 받고 엔터를 그냥 치면 입력마감\n",
        "  x=input('여러분이 좋아하는 케릭터 이름을 영어로 써주세요.(없으면 그냥 엔터)') \n",
        "  data.append(x)\n",
        "  if x ==\"\" :\n",
        "    break\n",
        "count = Counter(data)\n",
        "print(count)\n",
        "\n",
        "print('입력을 마쳤습니다.')\n",
        "time.sleep(1)\n",
        "print('최종적으로 워드클라우드를 작성중입니다..')\n",
        "time.sleep(3)\n",
        "for i in range(5) :\n",
        "  print(i)\n",
        "  time.sleep(1)\n",
        "print('최종적으로 워드클라우드를 작성중입니다..')\n",
        "time.sleep(1)\n",
        "print('작성이 완료되었습니다.')\n",
        "time.sleep(1)\n",
        "print('워드클라우드를 보여드릴게요.')\n",
        "time.sleep(1)\n",
        "print('글씨가 클수록 인기있는 케릭터입니다.')\n",
        "time.sleep(1)\n",
        "\n",
        "\n",
        "#워크클라우드 사진 만들기\n",
        "tags2=count.most_common(15) # 상위15개만 표현\n",
        "taglist=tagcloud.make_tags(tags2, maxsize=80) #워드클라우드 파일 만들기\n",
        "tagcloud.create_tag_image(taglist, 'tagcloud.jpg', size=(1000,800), rectangular=True) #워드클라우드 파일 tagcloud.jpg로 저장하기\n",
        "get_ipython().run_line_magic('pylab', 'inline')\n",
        "\n",
        "#사진 파일 열기\n",
        "import matplotlib.pyplot as plt\n",
        "import matplotlib.image as mpimg\n",
        "plt.figure(dpi=250) #크기조절은 석리쌤 5주차 공지 제출 양식 예시 링크에서 참고하였습니다.\n",
        "img=mpimg.imread('tagcloud.jpg')\n",
        "imgplot = plt.imshow(img)\n",
        "plt.show()"
      ],
      "metadata": {
        "id": "Z-n4Ts-EzOFh"
      },
      "execution_count": null,
      "outputs": []
    },
    {
      "cell_type": "code",
      "source": [
        "# 지난 주 5주차 코드\n",
        "import re\n",
        "\n",
        "gdps = [('poketmon', 1), ('tiniping', 2), ('onepiece', 3), ('conan', 4), ('wooyoungwoo', 5), ('zzanggu',6)]\n",
        "\n",
        "print('다음은 초등학교 아이들이 좋아하는 케릭터입니다.')\n",
        "print(gdps)\n",
        "x=input('여러분이 좋아하는 케릭터 이름을 영어로 써주세요.')\n",
        "\n",
        "#웹크롤링으로 데이터를 받지 못해서 일단 예시를 주고 학급에서 수동으로 받는 부분을 만듦.\n",
        "for i in range(len(gdps)-1) :\n",
        "  y1 = re.sub(r\"[^a-zA-Z0]\",\"\",str(gdps[i]))\n",
        "  y2 = re.sub(r\"[^0-9]\",\"\",str(gdps[i]))\n",
        "  if y1 == x :\n",
        "    m = (y1, int(y2)+1)\n",
        "    gdps.pop(i)\n",
        "    gdps.insert(i, m)\n",
        "    \n",
        "print(gdps)\n",
        "\n",
        "#많은 표를 받을 수록 클자가 커짐.\n",
        "import pytagcloud as tagcloud\n",
        "tags = tagcloud.make_tags(gdps, maxsize=60)\n",
        "tagcloud.create_tag_image(tags=tags, size=(1000,800), rectangular=True, output='tagcloud.jpg' )\n",
        "get_ipython().run_line_magic('pylab', 'inline')\n",
        "\n",
        "import matplotlib.pyplot as plt\n",
        "import matplotlib.image as mpimg\n",
        "plt.figure(dpi=250) #크기조절은 5주차 제출 양식 예시 링크에서 참고하였습니다.\n",
        "img=mpimg.imread('tagcloud.jpg')\n",
        "imgplot = plt.imshow(img)\n",
        "plt.show()"
      ],
      "metadata": {
        "id": "ARQd-z9HrXCj"
      },
      "execution_count": null,
      "outputs": []
    }
  ]
}